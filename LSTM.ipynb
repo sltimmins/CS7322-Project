{
 "cells": [
  {
   "cell_type": "markdown",
   "metadata": {},
   "source": [
    "# LSTM\n",
    "\n",
    "First read the json files containing the news article data into a Pandas DataFrame."
   ]
  },
  {
   "cell_type": "code",
   "execution_count": 1,
   "metadata": {},
   "outputs": [
    {
     "data": {
      "text/html": [
       "<div>\n",
       "<style scoped>\n",
       "    .dataframe tbody tr th:only-of-type {\n",
       "        vertical-align: middle;\n",
       "    }\n",
       "\n",
       "    .dataframe tbody tr th {\n",
       "        vertical-align: top;\n",
       "    }\n",
       "\n",
       "    .dataframe thead th {\n",
       "        text-align: right;\n",
       "    }\n",
       "</style>\n",
       "<table border=\"1\" class=\"dataframe\">\n",
       "  <thead>\n",
       "    <tr style=\"text-align: right;\">\n",
       "      <th></th>\n",
       "      <th>topic</th>\n",
       "      <th>source</th>\n",
       "      <th>bias</th>\n",
       "      <th>url</th>\n",
       "      <th>title</th>\n",
       "      <th>date</th>\n",
       "      <th>authors</th>\n",
       "      <th>content</th>\n",
       "      <th>content_original</th>\n",
       "      <th>source_url</th>\n",
       "      <th>bias_text</th>\n",
       "      <th>ID</th>\n",
       "    </tr>\n",
       "  </thead>\n",
       "  <tbody>\n",
       "    <tr>\n",
       "      <th>0</th>\n",
       "      <td>labor</td>\n",
       "      <td>The Week - News</td>\n",
       "      <td>1</td>\n",
       "      <td>https://theweek.com/speedreads/889936/senate-p...</td>\n",
       "      <td>Senate passes USMCA trade deal</td>\n",
       "      <td>2020-01-16</td>\n",
       "      <td>Kathryn Krawczyk</td>\n",
       "      <td>Peacock is set to join the streaming wars , an...</td>\n",
       "      <td>Peacock is set to join the streaming wars, and...</td>\n",
       "      <td>www.theweek.com</td>\n",
       "      <td>center</td>\n",
       "      <td>KjrRi41r810ZjuCM</td>\n",
       "    </tr>\n",
       "    <tr>\n",
       "      <th>1</th>\n",
       "      <td>world</td>\n",
       "      <td>Reuters</td>\n",
       "      <td>1</td>\n",
       "      <td>https://www.reuters.com/article/us-g7-summit-m...</td>\n",
       "      <td>Trump puts forward own Miami-area golf course ...</td>\n",
       "      <td>2019-08-26</td>\n",
       "      <td></td>\n",
       "      <td>BIARRITZ , France ( ███ ) - U.S. President Don...</td>\n",
       "      <td>BIARRITZ, France (Reuters) - U.S. President Do...</td>\n",
       "      <td>www.reuters.com</td>\n",
       "      <td>center</td>\n",
       "      <td>HJyJ1GkvXaH70NL5</td>\n",
       "    </tr>\n",
       "    <tr>\n",
       "      <th>2</th>\n",
       "      <td>economy_and_jobs</td>\n",
       "      <td>New York Times - News</td>\n",
       "      <td>0</td>\n",
       "      <td>http://www.nytimes.com/2012/06/13/business/glo...</td>\n",
       "      <td>World Bank Warns Euro Fears May Slow Global Gr...</td>\n",
       "      <td>2012-06-13</td>\n",
       "      <td>Annie Lowrey</td>\n",
       "      <td>Compared with other forecasters , the World Ba...</td>\n",
       "      <td>Compared with other forecasters, the World Ban...</td>\n",
       "      <td>www.nytimes.com</td>\n",
       "      <td>left</td>\n",
       "      <td>H9CkYxRYj4fgkVOt</td>\n",
       "    </tr>\n",
       "    <tr>\n",
       "      <th>3</th>\n",
       "      <td>politics</td>\n",
       "      <td>American Spectator</td>\n",
       "      <td>2</td>\n",
       "      <td>https://spectator.org/keep-your-hypocrisy-stai...</td>\n",
       "      <td>Keep Your Hypocrisy-Stained Hands Off Our Pres...</td>\n",
       "      <td></td>\n",
       "      <td>Dov Fischer, R. Emmett Tyrrell, Jeffrey Lord, ...</td>\n",
       "      <td>There is a profound difference between ( i ) t...</td>\n",
       "      <td>There is a profound difference between (i) the...</td>\n",
       "      <td>www.spectator.org</td>\n",
       "      <td>right</td>\n",
       "      <td>co0CAHsjo55yuPFa</td>\n",
       "    </tr>\n",
       "    <tr>\n",
       "      <th>4</th>\n",
       "      <td>national_security</td>\n",
       "      <td>Newsmax</td>\n",
       "      <td>2</td>\n",
       "      <td>https://www.newsmax.com/newsfront/jay-sekulow-...</td>\n",
       "      <td>Jay Sekulow: Mueller Tried to 'Defend the Inde...</td>\n",
       "      <td>2019-07-25</td>\n",
       "      <td>Sandy Fitzgerald</td>\n",
       "      <td>Former special counsel Robert Mueller was tryi...</td>\n",
       "      <td>Former special counsel Robert Mueller was tryi...</td>\n",
       "      <td>www.newsmax.com</td>\n",
       "      <td>right</td>\n",
       "      <td>q1CWFIi2zxqCohtv</td>\n",
       "    </tr>\n",
       "    <tr>\n",
       "      <th>...</th>\n",
       "      <td>...</td>\n",
       "      <td>...</td>\n",
       "      <td>...</td>\n",
       "      <td>...</td>\n",
       "      <td>...</td>\n",
       "      <td>...</td>\n",
       "      <td>...</td>\n",
       "      <td>...</td>\n",
       "      <td>...</td>\n",
       "      <td>...</td>\n",
       "      <td>...</td>\n",
       "      <td>...</td>\n",
       "    </tr>\n",
       "    <tr>\n",
       "      <th>37549</th>\n",
       "      <td>politics</td>\n",
       "      <td>Fox Online News</td>\n",
       "      <td>2</td>\n",
       "      <td>http://www.foxnews.com/politics/2018/03/11/war...</td>\n",
       "      <td>Elizabeth Warren rules out presidential run, s...</td>\n",
       "      <td>2018-03-11</td>\n",
       "      <td>Joseph Weber</td>\n",
       "      <td>Massachusetts Democratic Sen. Elizabeth Warren...</td>\n",
       "      <td>Massachusetts Democratic Sen. Elizabeth Warren...</td>\n",
       "      <td>www.foxnews.com</td>\n",
       "      <td>right</td>\n",
       "      <td>GMGGdAkZAsnjxzvw</td>\n",
       "    </tr>\n",
       "    <tr>\n",
       "      <th>37550</th>\n",
       "      <td>abortion</td>\n",
       "      <td>Washington Times</td>\n",
       "      <td>2</td>\n",
       "      <td>http://www.washingtontimes.com/news/2015/dec/2...</td>\n",
       "      <td>Planned Parenthood hit with fetal tissue resea...</td>\n",
       "      <td>2015-12-22</td>\n",
       "      <td>Tom Howell Jr., Valerie Richardson</td>\n",
       "      <td>An inspector general has agreed to probe how t...</td>\n",
       "      <td>An inspector general has agreed to probe how t...</td>\n",
       "      <td>www.washingtontimes.com</td>\n",
       "      <td>right</td>\n",
       "      <td>sWerDwWdOBnRBIrj</td>\n",
       "    </tr>\n",
       "    <tr>\n",
       "      <th>37551</th>\n",
       "      <td>elections</td>\n",
       "      <td>Reason</td>\n",
       "      <td>2</td>\n",
       "      <td>https://reason.com/blog/2019/02/10/sen-amy-klo...</td>\n",
       "      <td>Scandal-Plagued Sen. Amy Klobuchar Announces 2...</td>\n",
       "      <td>2019-02-10</td>\n",
       "      <td>Elizabeth Nolan Brown, Nick Gillespie, J.D. Tu...</td>\n",
       "      <td>In front of a snow-drenched crowd on Boom Isla...</td>\n",
       "      <td>In front of a snow-drenched crowd on Boom Isla...</td>\n",
       "      <td>www.reason.com</td>\n",
       "      <td>right</td>\n",
       "      <td>36OUNGiMJVZRg6LN</td>\n",
       "    </tr>\n",
       "    <tr>\n",
       "      <th>37552</th>\n",
       "      <td>healthcare</td>\n",
       "      <td>USA TODAY</td>\n",
       "      <td>1</td>\n",
       "      <td>http://www.usatoday.com/story/news/nation/2015...</td>\n",
       "      <td>Doctors face big cuts in Medicaid pay</td>\n",
       "      <td>2015-01-04</td>\n",
       "      <td>Phil Galewitz, Kaiser Health News</td>\n",
       "      <td>Andy Pasternak , a family doctor in Reno , saw...</td>\n",
       "      <td>CLOSE\\n\\nA Medicaid office employee works on r...</td>\n",
       "      <td>www.usatoday.com</td>\n",
       "      <td>center</td>\n",
       "      <td>TJygrEuycOXVfR10</td>\n",
       "    </tr>\n",
       "    <tr>\n",
       "      <th>37553</th>\n",
       "      <td>russia</td>\n",
       "      <td>Fox Online News</td>\n",
       "      <td>2</td>\n",
       "      <td>http://www.foxnews.com/opinion/2018/07/15/trum...</td>\n",
       "      <td>Trump-Putin summit could improve US-Russia rel...</td>\n",
       "      <td>2018-07-15</td>\n",
       "      <td>Harry J. Kazianis</td>\n",
       "      <td>Heading into his summit in Finland Monday with...</td>\n",
       "      <td>Heading into his summit in Finland Monday with...</td>\n",
       "      <td>www.foxnews.com</td>\n",
       "      <td>right</td>\n",
       "      <td>FkUljL8M6qU7umjz</td>\n",
       "    </tr>\n",
       "  </tbody>\n",
       "</table>\n",
       "<p>37554 rows × 12 columns</p>\n",
       "</div>"
      ],
      "text/plain": [
       "                   topic                 source bias  \\\n",
       "0                  labor        The Week - News    1   \n",
       "1                  world                Reuters    1   \n",
       "2       economy_and_jobs  New York Times - News    0   \n",
       "3               politics     American Spectator    2   \n",
       "4      national_security                Newsmax    2   \n",
       "...                  ...                    ...  ...   \n",
       "37549           politics        Fox Online News    2   \n",
       "37550           abortion       Washington Times    2   \n",
       "37551          elections                 Reason    2   \n",
       "37552         healthcare              USA TODAY    1   \n",
       "37553             russia        Fox Online News    2   \n",
       "\n",
       "                                                     url  \\\n",
       "0      https://theweek.com/speedreads/889936/senate-p...   \n",
       "1      https://www.reuters.com/article/us-g7-summit-m...   \n",
       "2      http://www.nytimes.com/2012/06/13/business/glo...   \n",
       "3      https://spectator.org/keep-your-hypocrisy-stai...   \n",
       "4      https://www.newsmax.com/newsfront/jay-sekulow-...   \n",
       "...                                                  ...   \n",
       "37549  http://www.foxnews.com/politics/2018/03/11/war...   \n",
       "37550  http://www.washingtontimes.com/news/2015/dec/2...   \n",
       "37551  https://reason.com/blog/2019/02/10/sen-amy-klo...   \n",
       "37552  http://www.usatoday.com/story/news/nation/2015...   \n",
       "37553  http://www.foxnews.com/opinion/2018/07/15/trum...   \n",
       "\n",
       "                                                   title        date  \\\n",
       "0                         Senate passes USMCA trade deal  2020-01-16   \n",
       "1      Trump puts forward own Miami-area golf course ...  2019-08-26   \n",
       "2      World Bank Warns Euro Fears May Slow Global Gr...  2012-06-13   \n",
       "3      Keep Your Hypocrisy-Stained Hands Off Our Pres...               \n",
       "4      Jay Sekulow: Mueller Tried to 'Defend the Inde...  2019-07-25   \n",
       "...                                                  ...         ...   \n",
       "37549  Elizabeth Warren rules out presidential run, s...  2018-03-11   \n",
       "37550  Planned Parenthood hit with fetal tissue resea...  2015-12-22   \n",
       "37551  Scandal-Plagued Sen. Amy Klobuchar Announces 2...  2019-02-10   \n",
       "37552              Doctors face big cuts in Medicaid pay  2015-01-04   \n",
       "37553  Trump-Putin summit could improve US-Russia rel...  2018-07-15   \n",
       "\n",
       "                                                 authors  \\\n",
       "0                                       Kathryn Krawczyk   \n",
       "1                                                          \n",
       "2                                           Annie Lowrey   \n",
       "3      Dov Fischer, R. Emmett Tyrrell, Jeffrey Lord, ...   \n",
       "4                                       Sandy Fitzgerald   \n",
       "...                                                  ...   \n",
       "37549                                       Joseph Weber   \n",
       "37550                 Tom Howell Jr., Valerie Richardson   \n",
       "37551  Elizabeth Nolan Brown, Nick Gillespie, J.D. Tu...   \n",
       "37552                  Phil Galewitz, Kaiser Health News   \n",
       "37553                                  Harry J. Kazianis   \n",
       "\n",
       "                                                 content  \\\n",
       "0      Peacock is set to join the streaming wars , an...   \n",
       "1      BIARRITZ , France ( ███ ) - U.S. President Don...   \n",
       "2      Compared with other forecasters , the World Ba...   \n",
       "3      There is a profound difference between ( i ) t...   \n",
       "4      Former special counsel Robert Mueller was tryi...   \n",
       "...                                                  ...   \n",
       "37549  Massachusetts Democratic Sen. Elizabeth Warren...   \n",
       "37550  An inspector general has agreed to probe how t...   \n",
       "37551  In front of a snow-drenched crowd on Boom Isla...   \n",
       "37552  Andy Pasternak , a family doctor in Reno , saw...   \n",
       "37553  Heading into his summit in Finland Monday with...   \n",
       "\n",
       "                                        content_original  \\\n",
       "0      Peacock is set to join the streaming wars, and...   \n",
       "1      BIARRITZ, France (Reuters) - U.S. President Do...   \n",
       "2      Compared with other forecasters, the World Ban...   \n",
       "3      There is a profound difference between (i) the...   \n",
       "4      Former special counsel Robert Mueller was tryi...   \n",
       "...                                                  ...   \n",
       "37549  Massachusetts Democratic Sen. Elizabeth Warren...   \n",
       "37550  An inspector general has agreed to probe how t...   \n",
       "37551  In front of a snow-drenched crowd on Boom Isla...   \n",
       "37552  CLOSE\\n\\nA Medicaid office employee works on r...   \n",
       "37553  Heading into his summit in Finland Monday with...   \n",
       "\n",
       "                    source_url bias_text                ID  \n",
       "0              www.theweek.com    center  KjrRi41r810ZjuCM  \n",
       "1              www.reuters.com    center  HJyJ1GkvXaH70NL5  \n",
       "2              www.nytimes.com      left  H9CkYxRYj4fgkVOt  \n",
       "3            www.spectator.org     right  co0CAHsjo55yuPFa  \n",
       "4              www.newsmax.com     right  q1CWFIi2zxqCohtv  \n",
       "...                        ...       ...               ...  \n",
       "37549          www.foxnews.com     right  GMGGdAkZAsnjxzvw  \n",
       "37550  www.washingtontimes.com     right  sWerDwWdOBnRBIrj  \n",
       "37551           www.reason.com     right  36OUNGiMJVZRg6LN  \n",
       "37552         www.usatoday.com    center  TJygrEuycOXVfR10  \n",
       "37553          www.foxnews.com     right  FkUljL8M6qU7umjz  \n",
       "\n",
       "[37554 rows x 12 columns]"
      ]
     },
     "execution_count": 1,
     "metadata": {},
     "output_type": "execute_result"
    }
   ],
   "source": [
    "import os\n",
    "import pandas as pd\n",
    "\n",
    "directory = 'data/jsons'\n",
    "\n",
    "dfs = [] # an empty list to store the data frames\n",
    "for f in os.listdir(directory):\n",
    "    file = os.path.join(directory, f)\n",
    "    data = pd.read_json(file, typ='series').to_frame().T # read data frame from json file\n",
    "    dfs.append(data) # append the data frame to the list\n",
    "\n",
    "df = pd.concat(dfs, ignore_index=True)\n",
    "df"
   ]
  },
  {
   "cell_type": "markdown",
   "metadata": {},
   "source": [
    "For this proof of concept we are going to use the preprocessed data provided in the dataset so we can drop the unused columns."
   ]
  },
  {
   "cell_type": "code",
   "execution_count": 2,
   "metadata": {},
   "outputs": [
    {
     "data": {
      "text/html": [
       "<div>\n",
       "<style scoped>\n",
       "    .dataframe tbody tr th:only-of-type {\n",
       "        vertical-align: middle;\n",
       "    }\n",
       "\n",
       "    .dataframe tbody tr th {\n",
       "        vertical-align: top;\n",
       "    }\n",
       "\n",
       "    .dataframe thead th {\n",
       "        text-align: right;\n",
       "    }\n",
       "</style>\n",
       "<table border=\"1\" class=\"dataframe\">\n",
       "  <thead>\n",
       "    <tr style=\"text-align: right;\">\n",
       "      <th></th>\n",
       "      <th>bias</th>\n",
       "      <th>content</th>\n",
       "    </tr>\n",
       "  </thead>\n",
       "  <tbody>\n",
       "    <tr>\n",
       "      <th>0</th>\n",
       "      <td>1</td>\n",
       "      <td>Peacock is set to join the streaming wars , an...</td>\n",
       "    </tr>\n",
       "    <tr>\n",
       "      <th>1</th>\n",
       "      <td>1</td>\n",
       "      <td>BIARRITZ , France ( ███ ) - U.S. President Don...</td>\n",
       "    </tr>\n",
       "    <tr>\n",
       "      <th>2</th>\n",
       "      <td>0</td>\n",
       "      <td>Compared with other forecasters , the World Ba...</td>\n",
       "    </tr>\n",
       "    <tr>\n",
       "      <th>3</th>\n",
       "      <td>2</td>\n",
       "      <td>There is a profound difference between ( i ) t...</td>\n",
       "    </tr>\n",
       "    <tr>\n",
       "      <th>4</th>\n",
       "      <td>2</td>\n",
       "      <td>Former special counsel Robert Mueller was tryi...</td>\n",
       "    </tr>\n",
       "    <tr>\n",
       "      <th>...</th>\n",
       "      <td>...</td>\n",
       "      <td>...</td>\n",
       "    </tr>\n",
       "    <tr>\n",
       "      <th>37549</th>\n",
       "      <td>2</td>\n",
       "      <td>Massachusetts Democratic Sen. Elizabeth Warren...</td>\n",
       "    </tr>\n",
       "    <tr>\n",
       "      <th>37550</th>\n",
       "      <td>2</td>\n",
       "      <td>An inspector general has agreed to probe how t...</td>\n",
       "    </tr>\n",
       "    <tr>\n",
       "      <th>37551</th>\n",
       "      <td>2</td>\n",
       "      <td>In front of a snow-drenched crowd on Boom Isla...</td>\n",
       "    </tr>\n",
       "    <tr>\n",
       "      <th>37552</th>\n",
       "      <td>1</td>\n",
       "      <td>Andy Pasternak , a family doctor in Reno , saw...</td>\n",
       "    </tr>\n",
       "    <tr>\n",
       "      <th>37553</th>\n",
       "      <td>2</td>\n",
       "      <td>Heading into his summit in Finland Monday with...</td>\n",
       "    </tr>\n",
       "  </tbody>\n",
       "</table>\n",
       "<p>37554 rows × 2 columns</p>\n",
       "</div>"
      ],
      "text/plain": [
       "      bias                                            content\n",
       "0        1  Peacock is set to join the streaming wars , an...\n",
       "1        1  BIARRITZ , France ( ███ ) - U.S. President Don...\n",
       "2        0  Compared with other forecasters , the World Ba...\n",
       "3        2  There is a profound difference between ( i ) t...\n",
       "4        2  Former special counsel Robert Mueller was tryi...\n",
       "...    ...                                                ...\n",
       "37549    2  Massachusetts Democratic Sen. Elizabeth Warren...\n",
       "37550    2  An inspector general has agreed to probe how t...\n",
       "37551    2  In front of a snow-drenched crowd on Boom Isla...\n",
       "37552    1  Andy Pasternak , a family doctor in Reno , saw...\n",
       "37553    2  Heading into his summit in Finland Monday with...\n",
       "\n",
       "[37554 rows x 2 columns]"
      ]
     },
     "execution_count": 2,
     "metadata": {},
     "output_type": "execute_result"
    }
   ],
   "source": [
    "df.drop(['topic', 'source', 'url', 'title', 'date', 'authors', 'content_original', 'source_url', 'bias_text', 'ID'],\n",
    "        axis=1, inplace=True)\n",
    "df"
   ]
  },
  {
   "cell_type": "markdown",
   "metadata": {},
   "source": [
    "Next, remove all punctuation from the text, make all the words lowercase, remove stop words, tokenize and one-hot-encode the sentences."
   ]
  },
  {
   "cell_type": "code",
   "execution_count": 3,
   "metadata": {},
   "outputs": [
    {
     "data": {
      "text/html": [
       "<div>\n",
       "<style scoped>\n",
       "    .dataframe tbody tr th:only-of-type {\n",
       "        vertical-align: middle;\n",
       "    }\n",
       "\n",
       "    .dataframe tbody tr th {\n",
       "        vertical-align: top;\n",
       "    }\n",
       "\n",
       "    .dataframe thead th {\n",
       "        text-align: right;\n",
       "    }\n",
       "</style>\n",
       "<table border=\"1\" class=\"dataframe\">\n",
       "  <thead>\n",
       "    <tr style=\"text-align: right;\">\n",
       "      <th></th>\n",
       "      <th>bias</th>\n",
       "      <th>content</th>\n",
       "    </tr>\n",
       "  </thead>\n",
       "  <tbody>\n",
       "    <tr>\n",
       "      <th>0</th>\n",
       "      <td>1</td>\n",
       "      <td>peacock is set to join the streaming wars  and...</td>\n",
       "    </tr>\n",
       "    <tr>\n",
       "      <th>1</th>\n",
       "      <td>1</td>\n",
       "      <td>biarritz  france     us president donald trump...</td>\n",
       "    </tr>\n",
       "    <tr>\n",
       "      <th>2</th>\n",
       "      <td>0</td>\n",
       "      <td>compared with other forecasters  the world ban...</td>\n",
       "    </tr>\n",
       "    <tr>\n",
       "      <th>3</th>\n",
       "      <td>2</td>\n",
       "      <td>there is a profound difference between  i  the...</td>\n",
       "    </tr>\n",
       "    <tr>\n",
       "      <th>4</th>\n",
       "      <td>2</td>\n",
       "      <td>former special counsel robert mueller was tryi...</td>\n",
       "    </tr>\n",
       "  </tbody>\n",
       "</table>\n",
       "</div>"
      ],
      "text/plain": [
       "  bias                                            content\n",
       "0    1  peacock is set to join the streaming wars  and...\n",
       "1    1  biarritz  france     us president donald trump...\n",
       "2    0  compared with other forecasters  the world ban...\n",
       "3    2  there is a profound difference between  i  the...\n",
       "4    2  former special counsel robert mueller was tryi..."
      ]
     },
     "execution_count": 3,
     "metadata": {},
     "output_type": "execute_result"
    }
   ],
   "source": [
    "df['content'] = df['content'].str.replace('[^\\w\\s]','')\n",
    "df['content'] = df['content'].str.lower()\n",
    "\n",
    "df.head()"
   ]
  },
  {
   "cell_type": "code",
   "execution_count": 4,
   "metadata": {},
   "outputs": [],
   "source": [
    "from nltk.corpus import stopwords\n",
    "stop = stopwords.words('english')\n",
    "\n",
    "df['content'] = df['content'].apply(lambda x: ' '.join([word for word in x.split() if word not in (stop)]))"
   ]
  },
  {
   "cell_type": "code",
   "execution_count": 5,
   "metadata": {},
   "outputs": [
    {
     "data": {
      "text/plain": [
       "1323"
      ]
     },
     "execution_count": 5,
     "metadata": {},
     "output_type": "execute_result"
    }
   ],
   "source": [
    "import numpy as np\n",
    "'''\n",
    "get average article word length to use as word count limit for LSTM, \n",
    "articles that are shorter than this will be zero-padded\n",
    "Use 1/3 of this length for training time for now\n",
    "'''\n",
    "max_length = int(np.round(df['content'].apply(len).mean()) / 3)\n",
    "max_length"
   ]
  },
  {
   "cell_type": "code",
   "execution_count": 6,
   "metadata": {},
   "outputs": [
    {
     "name": "stderr",
     "output_type": "stream",
     "text": [
      "/hpc/applications/anaconda/3/lib/python3.6/site-packages/tensorflow/python/framework/dtypes.py:526: FutureWarning: Passing (type, 1) or '1type' as a synonym of type is deprecated; in a future version of numpy, it will be understood as (type, (1,)) / '(1,)type'.\n",
      "  _np_qint8 = np.dtype([(\"qint8\", np.int8, 1)])\n",
      "/hpc/applications/anaconda/3/lib/python3.6/site-packages/tensorflow/python/framework/dtypes.py:527: FutureWarning: Passing (type, 1) or '1type' as a synonym of type is deprecated; in a future version of numpy, it will be understood as (type, (1,)) / '(1,)type'.\n",
      "  _np_quint8 = np.dtype([(\"quint8\", np.uint8, 1)])\n",
      "/hpc/applications/anaconda/3/lib/python3.6/site-packages/tensorflow/python/framework/dtypes.py:528: FutureWarning: Passing (type, 1) or '1type' as a synonym of type is deprecated; in a future version of numpy, it will be understood as (type, (1,)) / '(1,)type'.\n",
      "  _np_qint16 = np.dtype([(\"qint16\", np.int16, 1)])\n",
      "/hpc/applications/anaconda/3/lib/python3.6/site-packages/tensorflow/python/framework/dtypes.py:529: FutureWarning: Passing (type, 1) or '1type' as a synonym of type is deprecated; in a future version of numpy, it will be understood as (type, (1,)) / '(1,)type'.\n",
      "  _np_quint16 = np.dtype([(\"quint16\", np.uint16, 1)])\n",
      "/hpc/applications/anaconda/3/lib/python3.6/site-packages/tensorflow/python/framework/dtypes.py:530: FutureWarning: Passing (type, 1) or '1type' as a synonym of type is deprecated; in a future version of numpy, it will be understood as (type, (1,)) / '(1,)type'.\n",
      "  _np_qint32 = np.dtype([(\"qint32\", np.int32, 1)])\n",
      "/hpc/applications/anaconda/3/lib/python3.6/site-packages/tensorflow/python/framework/dtypes.py:535: FutureWarning: Passing (type, 1) or '1type' as a synonym of type is deprecated; in a future version of numpy, it will be understood as (type, (1,)) / '(1,)type'.\n",
      "  np_resource = np.dtype([(\"resource\", np.ubyte, 1)])\n"
     ]
    },
    {
     "name": "stdout",
     "output_type": "stream",
     "text": [
      "Found 203115 unique tokens. Distilled to 203115 top words.\n",
      "Shape of data tensor: (37554, 1323)\n",
      "1322\n"
     ]
    }
   ],
   "source": [
    "from tensorflow.keras.preprocessing.text import Tokenizer\n",
    "from tensorflow.keras.preprocessing import sequence\n",
    "\n",
    "X = df['content'].to_numpy()\n",
    "\n",
    "NUM_TOP_WORDS = None\n",
    "\n",
    "tokenizer = Tokenizer(num_words=max_length)\n",
    "tokenizer.fit_on_texts(X)\n",
    "sequences = tokenizer.texts_to_sequences(X)\n",
    "\n",
    "word_index = tokenizer.word_index\n",
    "NUM_TOP_WORDS = len(word_index) if NUM_TOP_WORDS==None else NUM_TOP_WORDS\n",
    "top_words = min((len(word_index),NUM_TOP_WORDS))\n",
    "print('Found %s unique tokens. Distilled to %d top words.' % (len(word_index),top_words))\n",
    "\n",
    "X = sequence.pad_sequences(sequences, maxlen=max_length)\n",
    "\n",
    "print('Shape of data tensor:', X.shape)\n",
    "print(np.max(X))"
   ]
  },
  {
   "cell_type": "markdown",
   "metadata": {},
   "source": [
    "Let's check the class distribution for our target variable."
   ]
  },
  {
   "cell_type": "code",
   "execution_count": 7,
   "metadata": {},
   "outputs": [
    {
     "data": {
      "text/plain": [
       "(array([0, 1, 2], dtype=object), array([13005, 10815, 13734]))"
      ]
     },
     "execution_count": 7,
     "metadata": {},
     "output_type": "execute_result"
    }
   ],
   "source": [
    "np.unique(df['bias'].to_numpy(), return_counts=True)"
   ]
  },
  {
   "cell_type": "markdown",
   "metadata": {},
   "source": [
    "As we can see they are relatively balanced so we can go ahead and split this into our train, validation, and test sets."
   ]
  },
  {
   "cell_type": "code",
   "execution_count": 8,
   "metadata": {},
   "outputs": [
    {
     "name": "stdout",
     "output_type": "stream",
     "text": [
      "30042 3756 3756\n"
     ]
    }
   ],
   "source": [
    "from sklearn.model_selection import train_test_split\n",
    "from tensorflow import keras\n",
    "\n",
    "X_train, X_test, y_train, y_test = train_test_split(X, df['bias'].to_numpy(), test_size=0.1, stratify=df['bias'].to_numpy())\n",
    "X_train, X_val, y_train, y_val = train_test_split(X_train, y_train, test_size=1.0/9.0, stratify=y_train)\n",
    "\n",
    "NUM_CLASSES = len(np.unique(df['bias']))\n",
    "y_train_ohe = keras.utils.to_categorical(y_train, NUM_CLASSES)\n",
    "y_test_ohe = keras.utils.to_categorical(y_test, NUM_CLASSES)\n",
    "y_val_ohe = keras.utils.to_categorical(y_val, NUM_CLASSES)\n",
    "\n",
    "print(len(X_train), len(X_test), len(X_val))"
   ]
  },
  {
   "cell_type": "markdown",
   "metadata": {},
   "source": [
    "With our dataset split we will now create a pre-trained embedding matrix using GloVe to be used with the LSTM."
   ]
  },
  {
   "cell_type": "code",
   "execution_count": 9,
   "metadata": {},
   "outputs": [
    {
     "name": "stdout",
     "output_type": "stream",
     "text": [
      "Found 400000 word vectors.\n",
      "Embedding Shape: (203116, 50) \n",
      " Total words found: 94645 \n",
      " Percentage: 46.596526123003606\n",
      "CPU times: user 4.68 s, sys: 94.8 ms, total: 4.77 s\n",
      "Wall time: 4.78 s\n"
     ]
    }
   ],
   "source": [
    "%%time\n",
    "EMBED_SIZE = 50\n",
    "\n",
    "embeddings_index = {}\n",
    "f = open('glove.6B.50d.txt', encoding=\"utf8\")\n",
    "# save key/array pairs of the embeddings\n",
    "#  the key of the dictionary is the word, the array is the embedding\n",
    "for line in f:\n",
    "    values = line.split()\n",
    "    word = values[0]\n",
    "    coefs = np.asarray(values[1:], dtype='float32')\n",
    "    embeddings_index[word] = coefs\n",
    "f.close()\n",
    "\n",
    "print('Found %s word vectors.' % len(embeddings_index))\n",
    "\n",
    "# now fill in the matrix, using the ordering from the\n",
    "#  keras word tokenizer from before\n",
    "found_words = 0\n",
    "embedding_matrix = np.zeros((len(word_index) + 1, EMBED_SIZE))\n",
    "for word, i in word_index.items():\n",
    "    embedding_vector = embeddings_index.get(word)\n",
    "    if embedding_vector is not None:\n",
    "        # words not found in embedding index will be ALL-ZEROS\n",
    "        embedding_matrix[i] = embedding_vector\n",
    "        found_words = found_words+1\n",
    "\n",
    "print(\"Embedding Shape:\",embedding_matrix.shape, \"\\n\",\n",
    "      \"Total words found:\",found_words, \"\\n\",\n",
    "      \"Percentage:\",100*found_words/embedding_matrix.shape[0])"
   ]
  },
  {
   "cell_type": "code",
   "execution_count": 10,
   "metadata": {},
   "outputs": [],
   "source": [
    "from tensorflow.keras.layers import Embedding\n",
    "\n",
    "# create pre-trained embedding layer\n",
    "embedding_layer = Embedding(len(word_index) + 1,\n",
    "                            EMBED_SIZE,\n",
    "                            weights=[embedding_matrix],# here is the embedding getting saved\n",
    "                            input_length=max_length,\n",
    "                            trainable=False)"
   ]
  },
  {
   "cell_type": "markdown",
   "metadata": {},
   "source": [
    "Now let's build and train the LSTM."
   ]
  },
  {
   "cell_type": "code",
   "execution_count": 11,
   "metadata": {},
   "outputs": [
    {
     "name": "stdout",
     "output_type": "stream",
     "text": [
      "WARNING:tensorflow:From /hpc/applications/anaconda/3/lib/python3.6/site-packages/tensorflow/python/ops/resource_variable_ops.py:435: colocate_with (from tensorflow.python.framework.ops) is deprecated and will be removed in a future version.\n",
      "Instructions for updating:\n",
      "Colocations handled automatically by placer.\n",
      "WARNING:tensorflow:From /hpc/applications/anaconda/3/lib/python3.6/site-packages/tensorflow/python/keras/backend.py:4010: calling dropout (from tensorflow.python.ops.nn_ops) with keep_prob is deprecated and will be removed in a future version.\n",
      "Instructions for updating:\n",
      "Please use `rate` instead of `keep_prob`. Rate should be set to `rate = 1 - keep_prob`.\n",
      "_________________________________________________________________\n",
      "Layer (type)                 Output Shape              Param #   \n",
      "=================================================================\n",
      "embedding (Embedding)        (None, 1323, 50)          10155800  \n",
      "_________________________________________________________________\n",
      "lstm (LSTM)                  (None, 300)               421200    \n",
      "_________________________________________________________________\n",
      "dense (Dense)                (None, 3)                 903       \n",
      "=================================================================\n",
      "Total params: 10,577,903\n",
      "Trainable params: 422,103\n",
      "Non-trainable params: 10,155,800\n",
      "_________________________________________________________________\n"
     ]
    }
   ],
   "source": [
    "from tensorflow.keras.models import Sequential\n",
    "from tensorflow.keras.layers import Dense, LSTM\n",
    "from tensorflow.keras.callbacks import ModelCheckpoint\n",
    "\n",
    "lstm = Sequential()\n",
    "lstm.add(embedding_layer)\n",
    "lstm.add(LSTM(300,dropout=0.2, recurrent_dropout=0.2))\n",
    "lstm.add(Dense(NUM_CLASSES, activation='sigmoid'))\n",
    "lstm.compile(loss='categorical_crossentropy', \n",
    "              optimizer='rmsprop', \n",
    "              metrics=['accuracy'])\n",
    "lstm.summary()"
   ]
  },
  {
   "cell_type": "code",
   "execution_count": 20,
   "metadata": {},
   "outputs": [],
   "source": [
    "custom_callbacks = [\n",
    "    ModelCheckpoint(\n",
    "        filepath = 'best.h5',\n",
    "        monitor = 'val_acc',\n",
    "        mode = 'max',\n",
    "        verbose = 1,\n",
    "        save_best_only = True\n",
    "    )\n",
    "]"
   ]
  },
  {
   "cell_type": "code",
   "execution_count": 13,
   "metadata": {},
   "outputs": [
    {
     "name": "stdout",
     "output_type": "stream",
     "text": [
      "Train on 30042 samples, validate on 3756 samples\n",
      "WARNING:tensorflow:From /hpc/applications/anaconda/3/lib/python3.6/site-packages/tensorflow/python/ops/math_ops.py:3066: to_int32 (from tensorflow.python.ops.math_ops) is deprecated and will be removed in a future version.\n",
      "Instructions for updating:\n",
      "Use tf.cast instead.\n",
      "Epoch 1/10\n",
      "30016/30042 [============================>.] - ETA: 1s - loss: 1.0876 - acc: 0.3877WARNING:tensorflow:Can save best model only with val_accuracy available, skipping.\n",
      "30042/30042 [==============================] - 1618s 54ms/sample - loss: 1.0876 - acc: 0.3878 - val_loss: 1.0743 - val_acc: 0.4119\n",
      "Epoch 2/10\n",
      "30016/30042 [============================>.] - ETA: 1s - loss: 1.0792 - acc: 0.4035WARNING:tensorflow:Can save best model only with val_accuracy available, skipping.\n",
      "30042/30042 [==============================] - 1596s 53ms/sample - loss: 1.0791 - acc: 0.4035 - val_loss: 1.0722 - val_acc: 0.4124\n",
      "Epoch 3/10\n",
      "30016/30042 [============================>.] - ETA: 1s - loss: 1.0691 - acc: 0.4194WARNING:tensorflow:Can save best model only with val_accuracy available, skipping.\n",
      "30042/30042 [==============================] - 1620s 54ms/sample - loss: 1.0690 - acc: 0.4196 - val_loss: 1.0614 - val_acc: 0.4278\n",
      "Epoch 4/10\n",
      "30016/30042 [============================>.] - ETA: 1s - loss: 1.0628 - acc: 0.4236WARNING:tensorflow:Can save best model only with val_accuracy available, skipping.\n",
      "30042/30042 [==============================] - 1624s 54ms/sample - loss: 1.0627 - acc: 0.4235 - val_loss: 1.0635 - val_acc: 0.4156\n",
      "Epoch 5/10\n",
      "30016/30042 [============================>.] - ETA: 1s - loss: 1.0427 - acc: 0.4494WARNING:tensorflow:Can save best model only with val_accuracy available, skipping.\n",
      "30042/30042 [==============================] - 1621s 54ms/sample - loss: 1.0428 - acc: 0.4494 - val_loss: 1.0417 - val_acc: 0.4569\n",
      "Epoch 6/10\n",
      "30016/30042 [============================>.] - ETA: 1s - loss: 1.0389 - acc: 0.4525WARNING:tensorflow:Can save best model only with val_accuracy available, skipping.\n",
      "30042/30042 [==============================] - 1625s 54ms/sample - loss: 1.0388 - acc: 0.4525 - val_loss: 0.9898 - val_acc: 0.5114\n",
      "Epoch 7/10\n",
      "30016/30042 [============================>.] - ETA: 1s - loss: 0.9742 - acc: 0.5129WARNING:tensorflow:Can save best model only with val_accuracy available, skipping.\n",
      "30042/30042 [==============================] - 1619s 54ms/sample - loss: 0.9743 - acc: 0.5127 - val_loss: 0.9384 - val_acc: 0.5335\n",
      "Epoch 8/10\n",
      "30016/30042 [============================>.] - ETA: 1s - loss: 0.9348 - acc: 0.5402WARNING:tensorflow:Can save best model only with val_accuracy available, skipping.\n",
      "30042/30042 [==============================] - 1625s 54ms/sample - loss: 0.9348 - acc: 0.5401 - val_loss: 0.8926 - val_acc: 0.5740\n",
      "Epoch 9/10\n",
      "30016/30042 [============================>.] - ETA: 1s - loss: 0.8914 - acc: 0.5691WARNING:tensorflow:Can save best model only with val_accuracy available, skipping.\n",
      "30042/30042 [==============================] - 1613s 54ms/sample - loss: 0.8915 - acc: 0.5690 - val_loss: 0.8764 - val_acc: 0.5807\n",
      "Epoch 10/10\n",
      "30016/30042 [============================>.] - ETA: 1s - loss: 0.8728 - acc: 0.5778WARNING:tensorflow:Can save best model only with val_accuracy available, skipping.\n",
      "30042/30042 [==============================] - 1623s 54ms/sample - loss: 0.8728 - acc: 0.5778 - val_loss: 0.8483 - val_acc: 0.6004\n"
     ]
    }
   ],
   "source": [
    "history = lstm.fit(X_train, y_train_ohe, validation_data=(X_val, y_val_ohe), \n",
    "                   epochs=10, batch_size=64, callbacks=custom_callbacks)"
   ]
  },
  {
   "cell_type": "code",
   "execution_count": 14,
   "metadata": {},
   "outputs": [],
   "source": [
    "history.model.save('best.h5')"
   ]
  },
  {
   "cell_type": "code",
   "execution_count": 18,
   "metadata": {},
   "outputs": [],
   "source": [
    "%matplotlib inline\n",
    "from matplotlib import pyplot as plt\n",
    "\n",
    "def plotHistory(history):\n",
    "    # summarize history for accuracy\n",
    "    plt.figure(figsize=(15,5))\n",
    "    plt.subplot(121)\n",
    "    plt.plot(history['acc'])\n",
    "    plt.plot(history['val_acc'])\n",
    "    plt.title('model accuracy')\n",
    "    plt.ylabel('accuracy')\n",
    "    plt.xlabel('epoch')\n",
    "    plt.legend(['train', 'test'], loc='upper left')\n",
    "\n",
    "    # summarize history for loss\n",
    "    plt.subplot(122)\n",
    "    plt.plot(history['loss'])\n",
    "    plt.plot(history['val_loss'])\n",
    "    plt.title('model loss')\n",
    "    plt.ylabel('loss')\n",
    "    plt.xlabel('epoch')\n",
    "    plt.legend(['train', 'test'], loc='upper left')\n",
    "    plt.show()"
   ]
  },
  {
   "cell_type": "code",
   "execution_count": 19,
   "metadata": {},
   "outputs": [
    {
     "data": {
      "image/png": "[encoded data removed]",
      "text/plain": [
       "<Figure size 1080x360 with 2 Axes>"
      ]
     },
     "metadata": {
      "needs_background": "light"
     },
     "output_type": "display_data"
    }
   ],
   "source": [
    "plotHistory(history.history)"
   ]
  },
  {
   "cell_type": "markdown",
   "metadata": {},
   "source": [
    "This model has not converged yet so we can continue to train."
   ]
  },
  {
   "cell_type": "code",
   "execution_count": 21,
   "metadata": {},
   "outputs": [
    {
     "name": "stdout",
     "output_type": "stream",
     "text": [
      "Train on 30042 samples, validate on 3756 samples\n",
      "Epoch 1/10\n",
      "30016/30042 [============================>.] - ETA: 1s - loss: 0.8478 - acc: 0.5954\n",
      "Epoch 00001: val_acc improved from -inf to 0.60037, saving model to best.h5\n",
      "30042/30042 [==============================] - 1619s 54ms/sample - loss: 0.8477 - acc: 0.5955 - val_loss: 0.8463 - val_acc: 0.6004\n",
      "Epoch 2/10\n",
      "30016/30042 [============================>.] - ETA: 1s - loss: 0.8513 - acc: 0.5919\n",
      "Epoch 00002: val_acc improved from 0.60037 to 0.60410, saving model to best.h5\n",
      "30042/30042 [==============================] - 1625s 54ms/sample - loss: 0.8514 - acc: 0.5917 - val_loss: 0.8410 - val_acc: 0.6041\n",
      "Epoch 3/10\n",
      "30016/30042 [============================>.] - ETA: 1s - loss: 0.8357 - acc: 0.6003\n",
      "Epoch 00003: val_acc improved from 0.60410 to 0.60437, saving model to best.h5\n",
      "30042/30042 [==============================] - 1621s 54ms/sample - loss: 0.8356 - acc: 0.6005 - val_loss: 0.8350 - val_acc: 0.6044\n",
      "Epoch 4/10\n",
      "30016/30042 [============================>.] - ETA: 1s - loss: 0.8276 - acc: 0.6113\n",
      "Epoch 00004: val_acc did not improve from 0.60437\n",
      "30042/30042 [==============================] - 1627s 54ms/sample - loss: 0.8292 - acc: 0.6111 - val_loss: 0.8382 - val_acc: 0.6038\n",
      "Epoch 5/10\n",
      "30016/30042 [============================>.] - ETA: 1s - loss: 0.8780 - acc: 0.5836\n",
      "Epoch 00005: val_acc did not improve from 0.60437\n",
      "30042/30042 [==============================] - 1629s 54ms/sample - loss: 0.8780 - acc: 0.5835 - val_loss: 0.8507 - val_acc: 0.5988\n",
      "Epoch 6/10\n",
      "30016/30042 [============================>.] - ETA: 1s - loss: 0.8440 - acc: 0.5998\n",
      "Epoch 00006: val_acc did not improve from 0.60437\n",
      "30042/30042 [==============================] - 1633s 54ms/sample - loss: 0.8440 - acc: 0.5998 - val_loss: 0.8638 - val_acc: 0.5825\n",
      "Epoch 7/10\n",
      "30016/30042 [============================>.] - ETA: 1s - loss: 0.8386 - acc: 0.6003\n",
      "Epoch 00007: val_acc did not improve from 0.60437\n",
      "30042/30042 [==============================] - 1622s 54ms/sample - loss: 0.8384 - acc: 0.6005 - val_loss: 0.8400 - val_acc: 0.6004\n",
      "Epoch 8/10\n",
      "30016/30042 [============================>.] - ETA: 1s - loss: 0.8151 - acc: 0.6179\n",
      "Epoch 00008: val_acc improved from 0.60437 to 0.61395, saving model to best.h5\n",
      "30042/30042 [==============================] - 1622s 54ms/sample - loss: 0.8151 - acc: 0.6178 - val_loss: 0.8283 - val_acc: 0.6140\n",
      "Epoch 9/10\n",
      "30016/30042 [============================>.] - ETA: 1s - loss: 0.8005 - acc: 0.6241\n",
      "Epoch 00009: val_acc did not improve from 0.61395\n",
      "30042/30042 [==============================] - 1624s 54ms/sample - loss: 0.8006 - acc: 0.6240 - val_loss: 0.8404 - val_acc: 0.6092\n",
      "Epoch 10/10\n",
      "30016/30042 [============================>.] - ETA: 1s - loss: 0.7919 - acc: 0.6311\n",
      "Epoch 00010: val_acc improved from 0.61395 to 0.62913, saving model to best.h5\n",
      "30042/30042 [==============================] - 1617s 54ms/sample - loss: 0.7918 - acc: 0.6311 - val_loss: 0.8013 - val_acc: 0.6291\n"
     ]
    }
   ],
   "source": [
    "history = lstm.fit(X_train, y_train_ohe, validation_data=(X_val, y_val_ohe), \n",
    "                   epochs=10, batch_size=64, callbacks=custom_callbacks)"
   ]
  },
  {
   "cell_type": "code",
   "execution_count": 22,
   "metadata": {},
   "outputs": [
    {
     "data": {
      "image/png": "[encoded data removed]",
      "text/plain": [
       "<Figure size 1080x360 with 2 Axes>"
      ]
     },
     "metadata": {
      "needs_background": "light"
     },
     "output_type": "display_data"
    }
   ],
   "source": [
    "plotHistory(history.history)"
   ]
  },
  {
   "cell_type": "code",
   "execution_count": null,
   "metadata": {},
   "outputs": [],
   "source": []
  }
 ],
 "metadata": {
  "kernelspec": {
   "display_name": "Python 3",
   "language": "python",
   "name": "python3"
  },
  "language_info": {
   "codemirror_mode": {
    "name": "ipython",
    "version": 3
   },
   "file_extension": ".py",
   "mimetype": "text/x-python",
   "name": "python",
   "nbconvert_exporter": "python",
   "pygments_lexer": "ipython3",
   "version": "3.6.7"
  }
 },
 "nbformat": 4,
 "nbformat_minor": 5
}
