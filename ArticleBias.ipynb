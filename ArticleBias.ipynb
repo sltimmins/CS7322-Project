{
 "cells": [
  {
   "cell_type": "code",
   "execution_count": 3,
   "id": "3e657aeb",
   "metadata": {},
   "outputs": [],
   "source": [
    "model_name = 'article-bias-2'\n",
    "from transformers import pipeline, AutoTokenizer, AutoModelForSequenceClassification\n",
    "tokenizer = AutoTokenizer.from_pretrained(model_name)\n",
    "pipe = pipeline(\"text-classification\", model=model_name, tokenizer=tokenizer)\n",
    "model = AutoModelForSequenceClassification.from_pretrained(model_name, num_labels=3).to(\"cuda\")"
   ]
  },
  {
   "cell_type": "code",
   "execution_count": 4,
   "id": "ccdcaf66",
   "metadata": {},
   "outputs": [],
   "source": [
    "def truncate_text(text, tokenizer, max_length=512):\n",
    "    tokens = tokenizer.tokenize(text)\n",
    "    truncated_tokens = tokens[:max_length - 2]  # Reserve space for special tokens [CLS] and [SEP]\n",
    "    truncated_text = tokenizer.convert_tokens_to_string(truncated_tokens)\n",
    "    return truncated_text"
   ]
  },
  {
   "cell_type": "code",
   "execution_count": 132,
   "id": "861433d5",
   "metadata": {},
   "outputs": [
    {
     "data": {
      "text/plain": [
       "DistilBertForSequenceClassification(\n",
       "  (distilbert): DistilBertModel(\n",
       "    (embeddings): Embeddings(\n",
       "      (word_embeddings): Embedding(30522, 768, padding_idx=0)\n",
       "      (position_embeddings): Embedding(512, 768)\n",
       "      (LayerNorm): LayerNorm((768,), eps=1e-12, elementwise_affine=True)\n",
       "      (dropout): Dropout(p=0.1, inplace=False)\n",
       "    )\n",
       "    (transformer): Transformer(\n",
       "      (layer): ModuleList(\n",
       "        (0-5): 6 x TransformerBlock(\n",
       "          (attention): MultiHeadSelfAttention(\n",
       "            (dropout): Dropout(p=0.1, inplace=False)\n",
       "            (q_lin): Linear(in_features=768, out_features=768, bias=True)\n",
       "            (k_lin): Linear(in_features=768, out_features=768, bias=True)\n",
       "            (v_lin): Linear(in_features=768, out_features=768, bias=True)\n",
       "            (out_lin): Linear(in_features=768, out_features=768, bias=True)\n",
       "          )\n",
       "          (sa_layer_norm): LayerNorm((768,), eps=1e-12, elementwise_affine=True)\n",
       "          (ffn): FFN(\n",
       "            (dropout): Dropout(p=0.1, inplace=False)\n",
       "            (lin1): Linear(in_features=768, out_features=3072, bias=True)\n",
       "            (lin2): Linear(in_features=3072, out_features=768, bias=True)\n",
       "            (activation): GELUActivation()\n",
       "          )\n",
       "          (output_layer_norm): LayerNorm((768,), eps=1e-12, elementwise_affine=True)\n",
       "        )\n",
       "      )\n",
       "    )\n",
       "  )\n",
       "  (pre_classifier): Linear(in_features=768, out_features=768, bias=True)\n",
       "  (classifier): Linear(in_features=768, out_features=3, bias=True)\n",
       "  (dropout): Dropout(p=0.2, inplace=False)\n",
       ")"
      ]
     },
     "execution_count": 132,
     "metadata": {},
     "output_type": "execute_result"
    }
   ],
   "source": [
    "model.eval()"
   ]
  },
  {
   "cell_type": "code",
   "execution_count": 14,
   "id": "cf76dae9",
   "metadata": {},
   "outputs": [],
   "source": [
    "import json\n",
    "def load_article_json(name):\n",
    "    with open(f'./data/jsons/{name}.json', 'r') as f:\n",
    "        data = json.load(f)\n",
    "        return data"
   ]
  },
  {
   "cell_type": "code",
   "execution_count": 187,
   "id": "33c0f848",
   "metadata": {},
   "outputs": [
    {
     "data": {
      "text/plain": [
       "(2,\n",
       " 'right',\n",
       " \"PA Lawmaker's Bill Would Ban Teachers From Talking Politics in the Classroom\",\n",
       " 'Fox Online News')"
      ]
     },
     "execution_count": 187,
     "metadata": {},
     "output_type": "execute_result"
    }
   ],
   "source": [
    "article1 = load_article_json('I3B0cfqnYOw0R0Rp')\n",
    "article1['bias'], article1['bias_text'], article1['title'], article1['source']"
   ]
  },
  {
   "cell_type": "code",
   "execution_count": 175,
   "id": "df9b6700",
   "metadata": {},
   "outputs": [
    {
     "data": {
      "text/plain": [
       "\"A Pennsylvania state lawmaker is pushing a bill that would ban schoolteachers from talking about modern-day civics , politics and public affairs in the classroom .\\nState Rep. Will Tallman ( R ) , who is retiring at the end of the year , sent a memo to his colleagues in the state House last Friday seeking support for what he has dubbed the “ Teacher Code of Ethics . ”\\nAccording to the memo , the bill would prohibit public elementary or secondary schoolteachers , while operating within the scope of their employment , from endorsing , supporting , or opposing any the following :\\n- Candidate or nominee for public office or any local , state , or federal official , regardless of whether such official is elected or appointed ;\\n- Local , state , or federal legislation or regulation , regardless of whether such legislation or regulation is pending , proposed , or enacted ;\\n- Local , state , or federal court case or judicial action , regardless of whether such court case or judicial action is pending , proposed , or decided ;\\n- Pending , proposed , or final executive action by any local , state or federal executive branch agency ;\\n- Activities that hamper or impede the lawful access of military recruiters to school property ;\\n- Activities that hamper or impede the actions of a local , state , or federal law enforcement agency ;\\n- Introduce into class any controversial subject matter that is not germane to the topic of the course being taught ; or\\n- Advocate for any issue that is part of a political party platform at the national , state , or local Level .\\n“ Our K-12 school teachers should not be using their classroom time spent on political or ideological indoctrination , ” Tallman said in his memo . “ Doing so takes time away from instruction in the academic foundation subjects of mathematics , science , English , history , and civics , and prevents our students from receiving a high-quality public education for careers in the global , high-tech economy . ”\\nSome people said this would help remove potential bias from the classroom and help students make up their own minds .\\nI agree with it , teachers aren ’ t supposed to push there personal agenda on kids let the kids make up their own mind . — David ( @ deerhunterinGA ) September 20 , 2018\\nPennsylvania Rep Proposes Bill To Ban Political Talks In Schools https : //t.co/XTOlvnmggM Great idea ! I know from personal experience that Leftist teachers often indoctrinate impressionable kids in schools and shame them for having different opinions . — Ron Thomas ( @ ronthomasaz ) September 20 , 2018\\n1st amendment aside I think teachers , professors , or any other person that is supposed to teach our young people should not poison these young minds . This has been going on for so long that it has already affected these young people . Let them decide for themselves ! — Steven A. Economos ( @ econshell ) September 20 , 2018\\nBut others have said the bill would violate teachers ' free speech and create a generation of uninformed , unthinking citizens .\\nI ’ d never share my politics / feelings w/ students , but I ’ d openly defy this law EVERY SINGLE DAY b/c # socialstudies is the study of policy , proceedings , & people . When Rep. Tallman retires , I ’ ll invite him to class to take part in the fun . Thurs we debate Confederate Monuments . https : //t.co/QKZTASEHQi — Mr. Jake Miller ( @ MrJakeMiller ) September 19 , 2018\\nHow do you teach civics or American history without talking about legislation or court cases ? We can ’ t have nice things . https : //t.co/lO2FfbiWlL — Steve Boell ( @ SteveBoell ) September 19 , 2018\\nCan you believe this ? A Pennsylvania state lawmaker Republican Will Tallman Introduced a bill that would ban public school teachers from discussing politics or government in their classrooms . THIS IS JUST WRONG THIS is an unconstitutional violation of free speech of Teachers — PoliticsVideoChannel ( @ politvidchannel ) September 19 , 2018\\nWhat do you think ? Let us know in the comments !\\nTexas Mom Forces 5th Grade Son to Wear ' I Am a Bully ' Shirt to School\\n'You Have to Trust Other Things ' : Blind High School Football Player on How He Scored 2 Touchdowns\""
      ]
     },
     "execution_count": 175,
     "metadata": {},
     "output_type": "execute_result"
    }
   ],
   "source": [
    "text = article1['content']\n",
    "text"
   ]
  },
  {
   "cell_type": "code",
   "execution_count": 216,
   "id": "7f080c4e",
   "metadata": {},
   "outputs": [
    {
     "data": {
      "text/plain": [
       "'a pennsylvania state lawmaker is pushing a bill that would ban schoolteachers from talking about modern - day civics, politics and public affairs in the classroom. state rep. will tallman ( r ), who is retiring at the end of the year, sent a memo to his colleagues in the state house last friday seeking support for what he has dubbed the “ teacher code of ethics. ” according to the memo, the bill would prohibit public elementary or secondary schoolteachers, while operating within the scope of their employment, from endorsing, supporting, or opposing any the following : - candidate or nominee for public office or any local, state, or federal official, regardless of whether such official is elected or appointed ; - local, state, or federal legislation or regulation, regardless of whether such legislation or regulation is pending, proposed, or enacted ; - local, state, or federal court case or judicial action, regardless of whether such court case or judicial action is pending, proposed, or decided ; - pending, proposed, or final executive action by any local, state or federal executive branch agency ; - activities that hamper or impede the lawful access of military recruiters to school property ; - activities that hamper or impede the actions of a local, state, or federal law enforcement agency ; - introduce into class any controversial subject matter that is not germane to the topic of the course being taught ; or - advocate for any issue that is part of a political party platform at the national, state, or local level. “ our k - 12 school teachers should not be using their classroom time spent on political or ideological indoctrination, ” tallman said in his memo. “ doing so takes time away from instruction in the academic foundation subjects of mathematics, science, english, history, and civics, and prevents our students from receiving a high - quality public education for careers in the global, high - tech economy. ” some people said this would help remove potential bias from the classroom and help students make up their own minds. i agree with it, teachers aren ’ t supposed to push there personal agenda on kids let the kids make up their own mind. — david ( @ deerhunteringa ) september 20, 2018 pennsylvania rep proposes bill to ban political talks in schools https : / / t. co / xtolvnmggm great idea! i know from personal experience that leftist teachers often indoctrinate impressionable kids in schools and shame them for'"
      ]
     },
     "execution_count": 216,
     "metadata": {},
     "output_type": "execute_result"
    }
   ],
   "source": [
    "text = truncate_text(article1['content'], tokenizer, max_length=500)\n",
    "text"
   ]
  },
  {
   "cell_type": "code",
   "execution_count": 219,
   "id": "867b25fc",
   "metadata": {},
   "outputs": [],
   "source": [
    "text += \" pro choice pro choice pro choice \""
   ]
  },
  {
   "cell_type": "code",
   "execution_count": 166,
   "id": "52a3fd90",
   "metadata": {},
   "outputs": [
    {
     "data": {
      "text/plain": [
       "[{'label': 'LABEL_2', 'score': 0.9992018342018127}]"
      ]
     },
     "execution_count": 166,
     "metadata": {},
     "output_type": "execute_result"
    }
   ],
   "source": [
    "pipe(text)"
   ]
  },
  {
   "cell_type": "code",
   "execution_count": 220,
   "id": "74c5f696",
   "metadata": {},
   "outputs": [
    {
     "data": {
      "text/plain": [
       "[{'label': 'LABEL_2', 'score': 0.9992978572845459}]"
      ]
     },
     "execution_count": 220,
     "metadata": {},
     "output_type": "execute_result"
    }
   ],
   "source": [
    "pipe(text)"
   ]
  },
  {
   "cell_type": "code",
   "execution_count": 174,
   "id": "955669f3",
   "metadata": {},
   "outputs": [
    {
     "data": {
      "text/plain": [
       "[{'label': 'LABEL_1', 'score': 0.996159553527832}]"
      ]
     },
     "execution_count": 174,
     "metadata": {},
     "output_type": "execute_result"
    }
   ],
   "source": [
    "pipe(truncate_text(article1['content'], tokenizer, max_length=400))"
   ]
  },
  {
   "cell_type": "code",
   "execution_count": 184,
   "id": "d15b44ad",
   "metadata": {},
   "outputs": [
    {
     "data": {
      "text/plain": [
       "[{'label': 'LABEL_0', 'score': 0.7014515399932861}]"
      ]
     },
     "execution_count": 184,
     "metadata": {},
     "output_type": "execute_result"
    }
   ],
   "source": [
    "pipe(\"immigration bad\")"
   ]
  },
  {
   "cell_type": "code",
   "execution_count": 133,
   "id": "ba2ab982",
   "metadata": {},
   "outputs": [
    {
     "data": {
      "text/plain": [
       "[{'label': 'LABEL_2', 'score': 0.7656301259994507}]"
      ]
     },
     "execution_count": 133,
     "metadata": {},
     "output_type": "execute_result"
    }
   ],
   "source": [
    "pipe(\"immigration is bad.\")"
   ]
  },
  {
   "cell_type": "code",
   "execution_count": 134,
   "id": "7d1663da",
   "metadata": {},
   "outputs": [
    {
     "data": {
      "text/plain": [
       "[{'label': 'LABEL_2', 'score': 0.5035411715507507}]"
      ]
     },
     "execution_count": 134,
     "metadata": {},
     "output_type": "execute_result"
    }
   ],
   "source": [
    "pipe(\"immigration is great.\")"
   ]
  },
  {
   "cell_type": "code",
   "execution_count": 135,
   "id": "03e70279",
   "metadata": {},
   "outputs": [
    {
     "data": {
      "text/plain": [
       "[{'label': 'LABEL_0', 'score': 0.4904172718524933}]"
      ]
     },
     "execution_count": 135,
     "metadata": {},
     "output_type": "execute_result"
    }
   ],
   "source": [
    "pipe(\"immigration is great for diversity\")"
   ]
  },
  {
   "cell_type": "code",
   "execution_count": 136,
   "id": "a988036c",
   "metadata": {},
   "outputs": [
    {
     "data": {
      "text/plain": [
       "[{'label': 'LABEL_1', 'score': 0.42974522709846497}]"
      ]
     },
     "execution_count": 136,
     "metadata": {},
     "output_type": "execute_result"
    }
   ],
   "source": [
    "pipe(\"immigration is great for diversity.\")"
   ]
  },
  {
   "cell_type": "code",
   "execution_count": 188,
   "id": "a73179cf",
   "metadata": {},
   "outputs": [
    {
     "data": {
      "text/plain": [
       "[{'label': 'LABEL_0', 'score': 0.6667281985282898}]"
      ]
     },
     "execution_count": 188,
     "metadata": {},
     "output_type": "execute_result"
    }
   ],
   "source": [
    "pipe(\"healthcare\")"
   ]
  },
  {
   "cell_type": "code",
   "execution_count": 196,
   "id": "47593dae",
   "metadata": {},
   "outputs": [
    {
     "data": {
      "text/plain": [
       "[{'label': 'LABEL_0', 'score': 0.9122157096862793}]"
      ]
     },
     "execution_count": 196,
     "metadata": {},
     "output_type": "execute_result"
    }
   ],
   "source": [
    "pipe(' '.join([\"healthcare\"] * 50))"
   ]
  },
  {
   "cell_type": "code",
   "execution_count": 197,
   "id": "961d23bd",
   "metadata": {},
   "outputs": [
    {
     "data": {
      "text/plain": [
       "[{'label': 'LABEL_1', 'score': 0.6254068613052368}]"
      ]
     },
     "execution_count": 197,
     "metadata": {},
     "output_type": "execute_result"
    }
   ],
   "source": [
    "pipe(' '.join([\"healthcare\"] * 500))"
   ]
  },
  {
   "cell_type": "code",
   "execution_count": 192,
   "id": "31677dac",
   "metadata": {},
   "outputs": [
    {
     "data": {
      "text/plain": [
       "[{'label': 'LABEL_2', 'score': 0.49897608160972595}]"
      ]
     },
     "execution_count": 192,
     "metadata": {},
     "output_type": "execute_result"
    }
   ],
   "source": [
    "pipe(\"god\")"
   ]
  },
  {
   "cell_type": "code",
   "execution_count": 198,
   "id": "2761e636",
   "metadata": {},
   "outputs": [
    {
     "data": {
      "text/plain": [
       "[{'label': 'LABEL_0', 'score': 0.948601245880127}]"
      ]
     },
     "execution_count": 198,
     "metadata": {},
     "output_type": "execute_result"
    }
   ],
   "source": [
    "pipe(' '.join([\"god\"] * 50))"
   ]
  },
  {
   "cell_type": "code",
   "execution_count": 199,
   "id": "7ec8e2f5",
   "metadata": {},
   "outputs": [
    {
     "data": {
      "text/plain": [
       "[{'label': 'LABEL_0', 'score': 0.6542900800704956}]"
      ]
     },
     "execution_count": 199,
     "metadata": {},
     "output_type": "execute_result"
    }
   ],
   "source": [
    "pipe(' '.join([\"god\"] * 500))"
   ]
  },
  {
   "cell_type": "code",
   "execution_count": 194,
   "id": "435959a5",
   "metadata": {},
   "outputs": [
    {
     "data": {
      "text/plain": [
       "[{'label': 'LABEL_2', 'score': 0.6059794425964355}]"
      ]
     },
     "execution_count": 194,
     "metadata": {},
     "output_type": "execute_result"
    }
   ],
   "source": [
    "pipe(\"free speech\")"
   ]
  },
  {
   "cell_type": "code",
   "execution_count": 201,
   "id": "ea73191d",
   "metadata": {},
   "outputs": [
    {
     "data": {
      "text/plain": [
       "[{'label': 'LABEL_0', 'score': 0.8325839638710022}]"
      ]
     },
     "execution_count": 201,
     "metadata": {},
     "output_type": "execute_result"
    }
   ],
   "source": [
    "pipe(' '.join([\"free\"] * 50))"
   ]
  },
  {
   "cell_type": "code",
   "execution_count": 207,
   "id": "a1ea7a6d",
   "metadata": {},
   "outputs": [
    {
     "data": {
      "text/plain": [
       "[{'label': 'LABEL_0', 'score': 0.9248437285423279}]"
      ]
     },
     "execution_count": 207,
     "metadata": {},
     "output_type": "execute_result"
    }
   ],
   "source": [
    "pipe(\"pro choice\")"
   ]
  },
  {
   "cell_type": "code",
   "execution_count": 210,
   "id": "8a77052d",
   "metadata": {},
   "outputs": [
    {
     "data": {
      "text/plain": [
       "[{'label': 'LABEL_0', 'score': 0.8720803260803223}]"
      ]
     },
     "execution_count": 210,
     "metadata": {},
     "output_type": "execute_result"
    }
   ],
   "source": [
    "pipe(\"pro is choice\")"
   ]
  },
  {
   "cell_type": "code",
   "execution_count": 225,
   "id": "4c059f46",
   "metadata": {},
   "outputs": [
    {
     "data": {
      "text/plain": [
       "[{'label': 'LABEL_0', 'score': 0.7543892860412598}]"
      ]
     },
     "execution_count": 225,
     "metadata": {},
     "output_type": "execute_result"
    }
   ],
   "source": [
    "pipe(' '.join([\"pro-choice is\" * 50]))"
   ]
  },
  {
   "cell_type": "code",
   "execution_count": 226,
   "id": "410cf86d",
   "metadata": {},
   "outputs": [
    {
     "data": {
      "text/plain": [
       "[{'label': 'LABEL_0', 'score': 0.4981709420681}]"
      ]
     },
     "execution_count": 226,
     "metadata": {},
     "output_type": "execute_result"
    }
   ],
   "source": [
    "pipe(' '.join([\"pro-life is\" * 50]))"
   ]
  }
 ],
 "metadata": {
  "kernelspec": {
   "display_name": "Python 3 (ipykernel)",
   "language": "python",
   "name": "python3"
  },
  "language_info": {
   "codemirror_mode": {
    "name": "ipython",
    "version": 3
   },
   "file_extension": ".py",
   "mimetype": "text/x-python",
   "name": "python",
   "nbconvert_exporter": "python",
   "pygments_lexer": "ipython3",
   "version": "3.9.16"
  }
 },
 "nbformat": 4,
 "nbformat_minor": 5
}
